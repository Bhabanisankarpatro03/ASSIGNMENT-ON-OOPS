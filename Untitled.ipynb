{
 "cells": [
  {
   "cell_type": "markdown",
   "id": "e7515a03-7581-4871-844d-05726ecb614a",
   "metadata": {},
   "source": [
    "Q1. What are the five key concepts of Object-Oriented ProgrammING (OOP)?"
   ]
  },
  {
   "cell_type": "markdown",
   "id": "a9585a15-4cee-4caf-80a6-4b17a1d791c7",
   "metadata": {},
   "source": [
    "**Five Key Concepts of Object-Oriented Programming (OOP)**\n",
    "\n",
    "OOP is a programming paradigm that revolves around the concept of \"objects.\" These objects have properties (attributes) and behaviors (methods). Here are the five key concepts:\n",
    "\n",
    "1. **Encapsulation:**\n",
    "   - Bundling data (attributes) and methods (functions) that operate on that data within a single unit, known as a class.\n",
    "   - This protects the internal state of an object from external interference, promoting data integrity.\n",
    "\n",
    "2. **Inheritance:**\n",
    "   - Creating new classes (child classes or subclasses) based on existing classes (parent classes or superclasses).\n",
    "   - The child class inherits the attributes and methods of the parent class, allowing for code reuse and the creation of hierarchical relationships.\n",
    "\n",
    "3. **Polymorphism:**\n",
    "   - The ability of objects of different classes to respond to the same method call in different ways.\n",
    "   - This can be achieved through method overriding (child class redefines a method from the parent class) or method overloading (multiple methods with the same name but different parameters).\n",
    "\n",
    "4. **Abstraction:**\n",
    "   - Focusing on the essential features of an object while hiding the implementation details.\n",
    "   - This simplifies the design and use of objects, making them more manageable.\n",
    "\n",
    "5. **Object:**\n",
    "   - The fundamental building block of OOP.\n",
    "   - It represents a real-world entity with its own state (attributes) and behavior (methods).\n",
    "   - Objects are instances of classes. \n",
    "\n",
    "These concepts work together to create modular, reusable, and maintainable code. By understanding and applying these principles, you can write efficient and effective object-oriented programs.\n"
   ]
  },
  {
   "cell_type": "markdown",
   "id": "403a2a20-95da-4b0f-87ae-8ef0b1f3e581",
   "metadata": {},
   "source": [
    " Q2. Write a Python class for a `Car` with attributes for `make`, `model`, and `year`. Include a method to display \n",
    "the car's information."
   ]
  },
  {
   "cell_type": "code",
   "execution_count": 1,
   "id": "f1685002-8faf-4633-81ff-54f9a679dbfb",
   "metadata": {},
   "outputs": [
    {
     "name": "stdout",
     "output_type": "stream",
     "text": [
      "Car Information:\n",
      "Make: Toyota\n",
      "Model: Camry\n",
      "Year: 2023\n"
     ]
    }
   ],
   "source": [
    "class Car:\n",
    "    def __init__(self, make, model, year):\n",
    "        self.make = make\n",
    "        self.model = model\n",
    "        self.year = year\n",
    "\n",
    "    def display_info(self):\n",
    "        print(f\"Car Information:\")\n",
    "        print(f\"Make: {self.make}\")\n",
    "        print(f\"Model: {self.model}\")\n",
    "        print(f\"Year: {self.year}\")\n",
    "\n",
    "# Create a car object\n",
    "my_car = Car(\"Toyota\", \"Camry\", 2023)\n",
    "\n",
    "# Display the car's information\n",
    "my_car.display_info()"
   ]
  },
  {
   "cell_type": "markdown",
   "id": "fdf946d6-64d2-49da-b2c4-464dde6d5889",
   "metadata": {},
   "source": [
    " 3. Explain the difference between instance methods and class methods. Provide an example of each."
   ]
  },
  {
   "cell_type": "markdown",
   "id": "6587d99c-34c8-46da-b380-a3565e13ebbe",
   "metadata": {},
   "source": [
    "**Instance Methods vs. Class Methods**\n",
    "\n",
    "In object-oriented programming, methods are functions associated with a class. They can be categorized into two main types: instance methods and class methods.\n",
    "\n",
    "**Instance Methods:**\n",
    "\n",
    "* **Bound to Objects:** Instance methods are bound to specific instances (objects) of a class.\n",
    "* **Access Instance Attributes:** They can access and modify the instance attributes of the object they are called on.\n",
    "* **First Argument:** The `self` parameter is implicitly passed as the first argument to instance methods, representing the current object.\n",
    "\n",
    "**Example:**\n",
    "\n"
   ]
  },
  {
   "cell_type": "code",
   "execution_count": 3,
   "id": "63444e5b-efa6-465c-84e4-b3a098a56f02",
   "metadata": {},
   "outputs": [],
   "source": [
    "class Car:\n",
    "    def __init__(self, make, model, year):\n",
    "        self.make = make\n",
    "        self.model = model\n",
    "        self.year = year\n",
    "\n",
    "    def display_info(self):\n",
    "        print(f\"Car Information:\")\n",
    "        print(f\"Make: {self.make}\")\n",
    "        print(f\"Model: {self.model}\")\n",
    "        print(f\"Year: {self.year}\")"
   ]
  },
  {
   "cell_type": "markdown",
   "id": "4461ac1c-2534-43db-9bb1-cdef4d60579d",
   "metadata": {},
   "source": [
    "In this example, `display_info` is an instance method. It can only be called on a specific `Car` object, and it accesses the object's attributes (`self.make`, `self.model`, `self.year`) to display the car's information.\n",
    "\n",
    "**Class Methods:**\n",
    "\n",
    "* **Bound to the Class:** Class methods are bound to the class itself, not to specific instances.\n",
    "* **Access Class Attributes:** They can access class attributes, which are shared by all instances of the class.\n",
    "* **First Argument:** The `cls` parameter is implicitly passed as the first argument to class methods, representing the class itself.\n",
    "* **Decorated with `@classmethod`:** Class methods are typically decorated with the `@classmethod` decorator.\n",
    "\n",
    "**Example:**\n"
   ]
  },
  {
   "cell_type": "code",
   "execution_count": 5,
   "id": "a5f971e0-2987-48f4-a69f-ffd238f5f490",
   "metadata": {},
   "outputs": [],
   "source": [
    "class Car:\n",
    "    def __init__(self, make, model, year):\n",
    "        self.make = make\n",
    "        self.model = model\n",
    "        self.year = year\n",
    "\n",
    "    @classmethod\n",
    "    def from_string(cls, car_str):\n",
    "        make, model, year = car_str.split(',')\n",
    "        return cls(make, model, year)"
   ]
  },
  {
   "cell_type": "markdown",
   "id": "07e37015-32e1-4418-b28e-0e92632f19be",
   "metadata": {},
   "source": [
    "Q 4. How does Python implement method overloading? Give an example."
   ]
  },
  {
   "cell_type": "markdown",
   "id": "b3fac068-dba1-4658-9177-1e37d5949e1e",
   "metadata": {},
   "source": [
    "**Python Does Not Directly Support Method Overloading**\n",
    "\n",
    "Unlike languages like Java or C++, Python does not have a direct mechanism for method overloading, where multiple methods with the same name but different parameter lists can coexist within a class.\n",
    "\n",
    "**However, Python provides alternative approaches to achieve similar functionality:**\n",
    "\n",
    "1. **Default Argument Values:**\n",
    "   By defining default values for parameters, you can create methods that can be called with different numbers of arguments."
   ]
  },
  {
   "cell_type": "code",
   "execution_count": 18,
   "id": "13c95ebc-7ec5-491d-9cdf-da61bd815c91",
   "metadata": {},
   "outputs": [
    {
     "name": "stdout",
     "output_type": "stream",
     "text": [
      "Hello Alice\n",
      "Hi Bob\n"
     ]
    }
   ],
   "source": [
    "def greet(name, greeting=\"Hello\"):\n",
    "    print(greeting, name)\n",
    "\n",
    "greet(\"Alice\")  \n",
    "greet(\"Bob\", \"Hi\") "
   ]
  },
  {
   "cell_type": "markdown",
   "id": "dc6fa67a-3aed-4523-b471-f0e4e3b11425",
   "metadata": {},
   "source": [
    "2. **Variable-Length Arguments:**\n",
    "   You can use the `*args` and `**kwargs` syntax to define functions that can accept a variable number of positional or keyword arguments, respectively."
   ]
  },
  {
   "cell_type": "code",
   "execution_count": 20,
   "id": "6eef9384-0fec-4949-b45e-5502642db97b",
   "metadata": {},
   "outputs": [
    {
     "name": "stdout",
     "output_type": "stream",
     "text": [
      "10\n"
     ]
    }
   ],
   "source": [
    "def add(*numbers):\n",
    "    total = 0\n",
    "    for num in numbers:\n",
    "        total += num\n",
    "    return total\n",
    "\n",
    "result = add(1, 2, 3, 4)\n",
    "print(result)  "
   ]
  },
  {
   "cell_type": "markdown",
   "id": "74b323ca-ae26-44da-a9b8-ef734967899e",
   "metadata": {},
   "source": [
    "3. **Method Overriding:**\n",
    "   While not strictly overloading, method overriding allows you to redefine a method in a subclass with the same name but different implementation. This is a key concept in inheritance."
   ]
  },
  {
   "cell_type": "code",
   "execution_count": 22,
   "id": "d8130f25-7d8f-46a4-b17b-b43a659b64c5",
   "metadata": {},
   "outputs": [
    {
     "name": "stdout",
     "output_type": "stream",
     "text": [
      "Generic animal sound\n",
      "Woof!\n"
     ]
    }
   ],
   "source": [
    "class Animal:\n",
    "    def sound(self):\n",
    "        print(\"Generic animal sound\")\n",
    "\n",
    "class Dog(Animal):\n",
    "    def sound(self):\n",
    "        print(\"Woof!\")\n",
    "\n",
    "animal = Animal()\n",
    "dog = Dog()\n",
    "animal.sound() \n",
    "dog.sound()  "
   ]
  },
  {
   "cell_type": "markdown",
   "id": "29c90c52-b911-4bae-ba72-cc052bb8dba4",
   "metadata": {},
   "source": [
    " Q5. What are the three types of access modifiers in Python? How are they denoted?"
   ]
  },
  {
   "cell_type": "markdown",
   "id": "90897709-1d3e-4125-bd83-3b743974ee87",
   "metadata": {},
   "source": [
    "Python uses the following three types of access modifiers to control the visibility of class attributes and methods:\n",
    "\n",
    "1. **Public:**\n",
    "   - **Denotation:** No specific keyword is used to denote public members.\n",
    "   - **Visibility:** Public members are accessible from anywhere within the program, including outside the class.\n",
    "\n",
    "2. **Protected:**\n",
    "   - **Denotation:** A single underscore (`_`) is used to denote protected members.\n",
    "   - **Visibility:** Protected members are accessible within the class and its subclasses. They are not directly accessible from outside the class or its subclasses. However, they can be accessed through public methods.\n",
    "\n",
    "3. **Private:**\n",
    "   - **Denotation:** A double underscore (`__`) is used to denote private members.\n",
    "   - **Visibility:** Private members are only accessible within the class itself. They are not accessible from outside the class, even through inheritance.\n",
    "\n",
    "**Example:**\n"
   ]
  },
  {
   "cell_type": "code",
   "execution_count": 26,
   "id": "418aa0df-848b-48a6-ba2e-08b137046a88",
   "metadata": {},
   "outputs": [],
   "source": [
    "class MyClass:\n",
    "    def __init__(self):\n",
    "        self.public_var = 10  # Public variable\n",
    "        self._protected_var = 20  # Protected variable\n",
    "        self.__private_var = 30  # Private variable\n",
    "\n",
    "    def public_method(self):\n",
    "        print(\"Public method\")\n",
    "\n",
    "    def _protected_method(self):\n",
    "        print(\"Protected method\")\n",
    "\n",
    "    def __private_method(self):\n",
    "        print(\"Private method\")"
   ]
  },
  {
   "cell_type": "markdown",
   "id": "a7316d14-618a-492f-b7d3-5da258e593b7",
   "metadata": {},
   "source": [
    "In this example:\n",
    "\n",
    "- `public_var`, `public_method` are accessible from anywhere.\n",
    "- `_protected_var`, `_protected_method` are accessible within the `MyClass` and its subclasses.\n",
    "- `__private_var`, `__private_method` are only accessible within the `MyClass`.\n",
    "\n",
    "It's important to note that Python's access modifiers are more conventions than strict enforcement mechanisms. While they provide guidance on how to use class members, they can still be accessed from outside the class using techniques like name mangling. \n"
   ]
  },
  {
   "cell_type": "markdown",
   "id": "886d0b81-0e01-4dce-8f86-40925dedf9ed",
   "metadata": {},
   "source": [
    " 6. Describe the five types of inheritance in Python. Provide a simple example of multiple inheritance."
   ]
  },
  {
   "cell_type": "markdown",
   "id": "ee742497-ba4b-43ac-80be-0d5564a40b59",
   "metadata": {},
   "source": [
    "Python supports the following five types of inheritance:\n",
    "\n",
    "1. **Single Inheritance:**\n",
    "   - A class inherits from only one parent class.\n",
    "   - This is the most basic form of inheritance.\n",
    "\n",
    "2. **Multiple Inheritance:**\n",
    "   - A class inherits from multiple parent classes.\n",
    "   - This allows a class to inherit attributes and methods from multiple sources.\n",
    "3. **Multilevel Inheritance:**\n",
    "   - A class inherits from a derived class.\n",
    "   - This creates a hierarchical structure of classes.\n",
    "\n",
    "4. **Hierarchical Inheritance:**\n",
    "   - Multiple classes inherit from a single parent class.\n",
    "   - This allows for the creation of multiple specialized classes from a common base class.\n",
    "\n",
    "5. **Hybrid Inheritance:**\n",
    "   - A combination of multiple inheritance types.\n",
    "   - This can create complex inheritance hierarchies.\n",
    "\n",
    "**Note:** While Python supports multiple inheritance, it's important to use it judiciously. Multiple inheritance can lead to complex inheritance hierarchies and potential ambiguity issues, especially when method resolution order (MRO) comes into play. It's often recommended to use composition over inheritance in many cases to avoid these complexities.\n"
   ]
  },
  {
   "cell_type": "code",
   "execution_count": 33,
   "id": "e62ef532-0551-4551-94d5-9d46ec28d441",
   "metadata": {},
   "outputs": [],
   "source": [
    "class Parent1:\n",
    "    def method1(self):\n",
    "        print(\"Parent1 method\")\n",
    "\n",
    "class Parent2:\n",
    "    def method2(self):\n",
    "        print(\"Parent2 method\")\n",
    "\n",
    "class Child(Parent1, Parent2):\n",
    "    def method3(self):\n",
    "        print(\"Child method\")"
   ]
  },
  {
   "cell_type": "markdown",
   "id": "dbe40a1a-d492-42ae-b147-1f4423a9bcdc",
   "metadata": {},
   "source": [
    "Q7. What is the Method Resolution Order (MRO) in Python? How can you retrieve it programmatically?"
   ]
  },
  {
   "cell_type": "markdown",
   "id": "f2419aaf-08b9-42a9-baf1-c4898aad20af",
   "metadata": {},
   "source": [
    "**Method Resolution Order (MRO)**\n",
    "\n",
    "MRO is a mechanism used by Python to determine the order in which methods are inherited from parent classes in a multiple inheritance scenario. It ensures that methods are called in a predictable and consistent manner.\n",
    "\n",
    "**How MRO Works:**\n",
    "\n",
    "Python uses a C3 linearization algorithm to determine the MRO of a class. This algorithm prioritizes the class itself, then its parent classes, and then the parent classes of its parent classes, while avoiding cycles.\n",
    "\n",
    "**Retrieving MRO Programmatically:**\n",
    "\n",
    "You can use the `__mro__` attribute of a class to access its MRO as a tuple:\n"
   ]
  },
  {
   "cell_type": "code",
   "execution_count": 39,
   "id": "7ca4cfb8-b29c-49e8-844b-7e99e00e49bb",
   "metadata": {},
   "outputs": [
    {
     "data": {
      "text/plain": [
       "<function print(*args, sep=' ', end='\\n', file=None, flush=False)>"
      ]
     },
     "execution_count": 39,
     "metadata": {},
     "output_type": "execute_result"
    }
   ],
   "source": [
    "class A:\n",
    "    pass\n",
    "\n",
    "class B(A):\n",
    "    pass\n",
    "\n",
    "class C(A):\n",
    "    pass\n",
    "\n",
    "class D(B, C):\n",
    "    pass\n",
    "\n",
    "print"
   ]
  },
  {
   "cell_type": "markdown",
   "id": "47c38d4a-fb45-4a26-af2b-b1edf3da41c2",
   "metadata": {},
   "source": [
    "In this example:\n",
    "\n",
    "1. `D` inherits from `B` and `C`.\n",
    "2. `B` and `C` both inherit from `A`.\n",
    "3. The MRO of `D` is `(D, B, C, A, object)`.\n",
    "\n",
    "This means that if a method is not found in `D`, Python will search for it in `B`, then `C`, then `A`, and finally in the base `object` class.\n",
    "\n",
    "**Understanding MRO is crucial for effectively using multiple inheritance in Python. By understanding the order in which methods are inherited, you can avoid unexpected behavior and write more predictable and maintainable code.**\n"
   ]
  },
  {
   "cell_type": "markdown",
   "id": "9bb58050-6409-4400-832e-17f66b272b72",
   "metadata": {},
   "source": [
    "Q 8. Create an abstract base class `Shape` with an abstract method `area()`. Then create two subclasses \n",
    "`Circle` and `Rectangle` that implement the `area()` method."
   ]
  },
  {
   "cell_type": "code",
   "execution_count": 42,
   "id": "5dc78e99-79f7-4fce-9d6a-ea2bcea65f27",
   "metadata": {},
   "outputs": [
    {
     "name": "stdout",
     "output_type": "stream",
     "text": [
      "Area of circle: 78.53975\n",
      "Area of rectangle: 24\n"
     ]
    }
   ],
   "source": [
    "from abc import ABC, abstractmethod\n",
    "\n",
    "class Shape(ABC):\n",
    "    @abstractmethod\n",
    "    def area(self):\n",
    "        pass\n",
    "\n",
    "class Circle(Shape):\n",
    "    def __init__(self, radius):\n",
    "        self.radius = radius\n",
    "\n",
    "    def area(self):\n",
    "        return 3.14159 * self.radius * self.radius\n",
    "\n",
    "class Rectangle(Shape):\n",
    "    def __init__(self, length, width):\n",
    "        self.length = length\n",
    "        self.width = width\n",
    "\n",
    "    def area(self):\n",
    "        return self.length * self.width\n",
    "\n",
    "# Example usage:\n",
    "circle = Circle(5)\n",
    "rectangle = Rectangle(4, 6)\n",
    "\n",
    "print(\"Area of circle:\", circle.area())\n",
    "print(\"Area of rectangle:\", rectangle.area())"
   ]
  },
  {
   "cell_type": "markdown",
   "id": "fae18458-4925-42a9-b880-1da1ba705548",
   "metadata": {},
   "source": [
    "\n",
    "**Explanation:**\n",
    "\n",
    "1. **Abstract Base Class `Shape`:**\n",
    "   - We import `ABC` and `abstractmethod` from the `abc` module.\n",
    "   - We define an abstract base class `Shape` that inherits from `ABC`.\n",
    "   - The `area()` method is declared as abstract using the `@abstractmethod` decorator. This means that subclasses of `Shape` must implement this method.\n",
    "\n",
    "2. **Concrete Subclasses `Circle` and `Rectangle`:**\n",
    "   - Both `Circle` and `Rectangle` inherit from the `Shape` class.\n",
    "   - They implement the `area()` method according to their specific formulas.\n",
    "\n",
    "3. **Example Usage:**\n",
    "   - We create instances of `Circle` and `Rectangle`.\n",
    "   - We call the `area()` method on each instance to calculate and print the area.\n",
    "\n",
    "By using abstract base classes and abstract methods, we ensure that subclasses provide concrete implementations for the abstract methods, promoting code consistency and flexibility.\n"
   ]
  },
  {
   "cell_type": "markdown",
   "id": "2765a198-49cf-433b-91dc-870f95935557",
   "metadata": {},
   "source": [
    "Q 9. Demonstrate polymorphism by creating a function that can work with different shape objects to calculate \n",
    "and print their areas."
   ]
  },
  {
   "cell_type": "code",
   "execution_count": 46,
   "id": "a80d55b6-7543-4c88-b2ff-538cd31bb6a5",
   "metadata": {},
   "outputs": [
    {
     "name": "stdout",
     "output_type": "stream",
     "text": [
      "Area: 78.53975\n",
      "Area: 24\n"
     ]
    }
   ],
   "source": [
    "from abc import ABC, abstractmethod\n",
    "\n",
    "class Shape(ABC):\n",
    "    @abstractmethod\n",
    "    def area(self):\n",
    "        pass\n",
    "\n",
    "class Circle(Shape):\n",
    "    def __init__(self, radius):\n",
    "        self.radius = radius\n",
    "\n",
    "    def area(self):\n",
    "        return 3.14159 * self.radius * self.radius\n",
    "\n",
    "class Rectangle(Shape):\n",
    "    def __init__(self, length, width):\n",
    "        self.length = length\n",
    "        self.width = width\n",
    "\n",
    "    def area(self):\n",
    "        return self.length * self.width\n",
    "\n",
    "def print_area(shape):\n",
    "    print(\"Area:\", shape.area())\n",
    "\n",
    "# Create objects of different shapes\n",
    "circle = Circle(5)\n",
    "rectangle = Rectangle(4, 6)\n",
    "\n",
    "# Use the same function to print the area of different shapes\n",
    "print_area(circle)  \n",
    "print_area(rectangle) "
   ]
  },
  {
   "cell_type": "markdown",
   "id": "190e8c46-bd70-47a4-b263-4536e2ddc154",
   "metadata": {},
   "source": [
    "**Explanation:**\n",
    "\n",
    "1. **Abstract Base Class and Subclasses:**\n",
    "   - We define the `Shape` abstract base class with the abstract `area()` method.\n",
    "   - `Circle` and `Rectangle` subclasses inherit from `Shape` and implement the `area()` method accordingly.\n",
    "\n",
    "2. **Polymorphic Function `print_area()`:**\n",
    "   - The `print_area()` function takes a `Shape` object as input.\n",
    "   - It calls the `area()` method on the passed object, which can be either a `Circle` or a `Rectangle`.\n",
    "   - The appropriate `area()` method is invoked based on the object's type, demonstrating polymorphism.\n",
    "\n",
    "3. **Function Call:**\n",
    "   - We create instances of `Circle` and `Rectangle`.\n",
    "   - We pass these objects to the `print_area()` function.\n",
    "   - The function correctly calculates and prints the area for each shape, showcasing the power of polymorphism.\n",
    "\n",
    "This example demonstrates how polymorphism allows us to write generic code that can work with objects of different types, as long as they share a common interface (in this case, the `area()` method).\n"
   ]
  },
  {
   "cell_type": "markdown",
   "id": "7a556eb3-60dc-482a-a8b3-4df8ca880a79",
   "metadata": {},
   "source": [
    "Q 10. Implement encapsulation in a `BankAccount` class with private attributes for `balance` and \n",
    "`account_number`. Include methods for deposit, withdrawal, and balance inquiry."
   ]
  },
  {
   "cell_type": "code",
   "execution_count": 52,
   "id": "53183f9d-6e92-4826-956f-c332322561f2",
   "metadata": {},
   "outputs": [
    {
     "name": "stdout",
     "output_type": "stream",
     "text": [
      "Deposited 500. New balance: 1500\n",
      "Withdrew 200. New balance: 1300\n",
      "Your current balance is: 1300\n"
     ]
    }
   ],
   "source": [
    "class BankAccount:\n",
    "    def __init__(self, account_number, initial_balance):\n",
    "        self.__account_number = account_number\n",
    "        self.__balance = initial_balance\n",
    "\n",
    "    def deposit(self, amount):\n",
    "        if amount > 0:\n",
    "            self.__balance += amount\n",
    "            print(f\"Deposited {amount}. New balance: {self.__balance}\")\n",
    "        else:\n",
    "            print(\"Invalid deposit amount.\")\n",
    "\n",
    "    def withdraw(self, amount):\n",
    "        if amount > 0 and amount <= self.__balance:\n",
    "            self.__balance -= amount\n",
    "            print(f\"Withdrew {amount}. New balance: {self.__balance}\")\n",
    "        else:\n",
    "            print(\"Insufficient balance or invalid withdrawal amount.\")\n",
    "\n",
    "    def check_balance(self):\n",
    "        print(f\"Your current balance is: {self.__balance}\")\n",
    "\n",
    "# Example usage:\n",
    "account = BankAccount(\"12345\", 1000)\n",
    "account.deposit(500)\n",
    "account.withdraw(200)\n",
    "account.check_balance()"
   ]
  },
  {
   "cell_type": "markdown",
   "id": "6bc027ca-baa2-4e87-b822-a92a99d2ba0c",
   "metadata": {},
   "source": [
    "**Explanation:**\n",
    "\n",
    "1. **Private Attributes:**\n",
    "   - `__account_number` and `__balance` are declared as private attributes using double underscores. This prevents direct access from outside the class.\n",
    "\n",
    "2. **Public Methods:**\n",
    "   - `deposit()`, `withdraw()`, and `check_balance()` are public methods that provide controlled access to the private attributes.\n",
    "   - `deposit()` and `withdraw()` validate the input amounts and update the balance accordingly.\n",
    "   - `check_balance()` displays the current balance without allowing modification.\n",
    "\n",
    "3. **Encapsulation:**\n",
    "   - The class encapsulates the `account_number` and `balance` data within a single unit.\n",
    "   - The public methods provide a well-defined interface to interact with the object, protecting the internal state from unintended modifications.\n",
    "\n",
    "By using encapsulation, we ensure data integrity and prevent unauthorized access to the sensitive account information.\n"
   ]
  },
  {
   "cell_type": "markdown",
   "id": "fc088de6-b819-44a8-8d94-faa9f1b89bab",
   "metadata": {},
   "source": [
    "Q 11. Write a class that overrides the `__str__` and `__add__` magic methods. What will these methods allow \n",
    "you to do?"
   ]
  },
  {
   "cell_type": "code",
   "execution_count": 56,
   "id": "be797793-aca6-4851-8a8d-094f23225b2b",
   "metadata": {},
   "outputs": [
    {
     "name": "stdout",
     "output_type": "stream",
     "text": [
      "Person: Alice, Age: 30\n",
      "Total age: 55\n"
     ]
    }
   ],
   "source": [
    "class Person:\n",
    "    def __init__(self, name, age):\n",
    "        self.name = name\n",
    "        self.age = age\n",
    "\n",
    "    def __str__(self):\n",
    "        return f\"Person: {self.name}, Age: {self.age}\"\n",
    "\n",
    "    def __add__(self, other):\n",
    "        return self.age + other.age\n",
    "\n",
    "# Create two Person objects\n",
    "person1 = Person(\"Alice\", 30)\n",
    "person2 = Person(\"Bob\", 25)\n",
    "\n",
    "# Print the string representation of person1\n",
    "print(person1) \n",
    "\n",
    "# Add the ages of person1 and person2\n",
    "total_age = person1 + person2\n",
    "print(\"Total age:\", total_age) "
   ]
  },
  {
   "cell_type": "markdown",
   "id": "8dddc4ac-1eb0-4afa-9ed0-23ecb212b94f",
   "metadata": {},
   "source": [
    "Q 12. Create a decorator that measures and prints the execution time of a function."
   ]
  },
  {
   "cell_type": "code",
   "execution_count": 59,
   "id": "34cd003a-6063-4842-b369-cfd957c773ef",
   "metadata": {},
   "outputs": [
    {
     "name": "stdout",
     "output_type": "stream",
     "text": [
      "Function executed\n",
      "Execution time of my_function: 2.0006 seconds\n"
     ]
    }
   ],
   "source": [
    "import time\n",
    "\n",
    "def measure_time(func):\n",
    "    def wrapper(*args, **kwargs):\n",
    "        start_time = time.time()\n",
    "        result = func(*args, **kwargs)\n",
    "        end_time = time.time()\n",
    "        execution_time = end_time - start_time\n",
    "        print(f\"Execution time of {func.__name__}: {execution_time:.4f} seconds\")\n",
    "        return result\n",
    "    return wrapper\n",
    "\n",
    "@measure_time\n",
    "def my_function():\n",
    "    # Some time-consuming operation here\n",
    "    time.sleep(2)\n",
    "    print(\"Function executed\")\n",
    "\n",
    "my_function()"
   ]
  },
  {
   "cell_type": "markdown",
   "id": "eb12ced4-1cdc-4916-9b8b-ed6a371e110b",
   "metadata": {},
   "source": [
    "Q 13. Explain the concept of the Diamond Problem in multiple inheritance. How does Python resolve it?"
   ]
  },
  {
   "cell_type": "markdown",
   "id": "345b82a7-1c25-41bb-be56-5fb68275a428",
   "metadata": {},
   "source": [
    "**The Diamond Problem**\n",
    "\n",
    "The Diamond Problem arises in multiple inheritance when a class inherits from two parent classes that share a common ancestor. This can lead to ambiguity if both parent classes define a method with the same name.\n",
    "\n",
    "\n",
    "In this example, `D` inherits from both `B` and `C`, which both inherit from `A`. When we call `d.method()`, Python needs to determine which `method()` implementation to use: the one from `B` or the one from `C`.\n",
    "\n",
    "**Python's Resolution: Method Resolution Order (MRO)**\n",
    "\n",
    "Python uses a specific algorithm called C3 linearization to resolve the Diamond Problem. It determines the order in which base classes are searched for methods. In the above example, the MRO of `D` is `(D, B, C, A, object)`. This means that Python will first look for the `method()` in `D`, then `B`, then `C`, and finally `A`.\n",
    "\n",
    "**Key Points:**\n",
    "\n",
    "- **C3 Linearization:** A complex algorithm that guarantees a consistent and predictable MRO.\n",
    "- **MRO Order:** The MRO determines the order in which methods are inherited.\n",
    "- **Ambiguity Avoidance:** Python's MRO helps avoid ambiguity by ensuring that the correct method is called.\n",
    "\n",
    "By understanding the Diamond Problem and Python's MRO, you can effectively use multiple inheritance without running into unexpected behavior.\n"
   ]
  },
  {
   "cell_type": "code",
   "execution_count": 63,
   "id": "07b402e7-bc70-487b-95c9-e53f01fcb40a",
   "metadata": {},
   "outputs": [
    {
     "name": "stdout",
     "output_type": "stream",
     "text": [
      "A's method\n"
     ]
    }
   ],
   "source": [
    "class A:\n",
    "    def method(self):\n",
    "        print(\"A's method\")\n",
    "\n",
    "class B(A):\n",
    "    pass\n",
    "\n",
    "class C(A):\n",
    "    pass\n",
    "\n",
    "class D(B, C):\n",
    "    pass\n",
    "\n",
    "d = D()\n",
    "d.method()"
   ]
  },
  {
   "cell_type": "markdown",
   "id": "da7d5dd9-7219-49b0-88f5-9b1cf94bcc8f",
   "metadata": {},
   "source": [
    "Q 14. Write a class method that keeps track of the number of instances created from a class."
   ]
  },
  {
   "cell_type": "code",
   "execution_count": 66,
   "id": "0adc1d44-6ade-44a7-aa72-b8293e0060ae",
   "metadata": {},
   "outputs": [
    {
     "name": "stdout",
     "output_type": "stream",
     "text": [
      "Total instances: 3\n"
     ]
    }
   ],
   "source": [
    "class MyClass:\n",
    "    count = 0\n",
    "\n",
    "    def __init__(self):\n",
    "        MyClass.count += 1\n",
    "\n",
    "    @classmethod\n",
    "    def get_instance_count(cls):\n",
    "        return cls.count\n",
    "\n",
    "# Create multiple instances\n",
    "obj1 = MyClass()\n",
    "obj2 = MyClass()\n",
    "obj3 = MyClass()\n",
    "\n",
    "# Print the total number of instances\n",
    "print(\"Total instances:\", MyClass.get_instance_count())"
   ]
  },
  {
   "cell_type": "markdown",
   "id": "031b2116-308a-459a-aef7-d71d1cf00aa3",
   "metadata": {},
   "source": [
    "**Explanation:**\n",
    "\n",
    "1. **Class Attribute `count`:**\n",
    "   - We define a class attribute `count` to keep track of the total number of instances created.\n",
    "   - It is initialized to 0.\n",
    "\n",
    "2. **Constructor `__init__()`:**\n",
    "   - Inside the constructor, we increment the `count` attribute each time a new instance is created.\n",
    "\n",
    "3. **Class Method `get_instance_count()`:**\n",
    "   - This class method is used to access and return the current value of the `count` attribute.\n",
    "   - It is decorated with `@classmethod` to indicate that it is a class method.\n",
    "\n",
    "4. **Instance Creation and Counting:**\n",
    "   - We create multiple instances of the `MyClass`.\n",
    "   - Each time an instance is created, the `count` is incremented.\n",
    "\n",
    "5. **Printing Instance Count:**\n",
    "   - We call the `get_instance_count()` method to retrieve the total number of instances and print it.\n",
    "\n",
    "By using a class attribute and a class method, we can effectively keep track of the number of instances created from a class, providing useful information for various purposes.\n"
   ]
  },
  {
   "cell_type": "markdown",
   "id": "7b13d68b-2f14-4b3d-b083-49cb68189fe6",
   "metadata": {},
   "source": [
    "Q 15. Implement a static method in a class that checks if a given year is a leap year"
   ]
  },
  {
   "cell_type": "code",
   "execution_count": 70,
   "id": "675fdf80-fdab-4095-95b9-6f4263159d35",
   "metadata": {},
   "outputs": [
    {
     "name": "stdout",
     "output_type": "stream",
     "text": [
      "2024 is a leap year\n"
     ]
    }
   ],
   "source": [
    "class YearChecker:\n",
    "    @staticmethod\n",
    "    def is_leap_year(year):\n",
    "        if (year % 4 == 0 and year % 100 != 0) or (year % 400 == 0):\n",
    "            return True\n",
    "        else:\n",
    "            return False\n",
    "\n",
    "# Example usage:\n",
    "year = 2024\n",
    "if YearChecker.is_leap_year(year):\n",
    "    print(year, \"is a leap year\")\n",
    "else:\n",
    "    print(year, \"is not a leap year\")"
   ]
  },
  {
   "cell_type": "markdown",
   "id": "aef83188-772c-427a-82e2-e85d15e857f1",
   "metadata": {},
   "source": []
  }
 ],
 "metadata": {
  "kernelspec": {
   "display_name": "Python 3 (ipykernel)",
   "language": "python",
   "name": "python3"
  },
  "language_info": {
   "codemirror_mode": {
    "name": "ipython",
    "version": 3
   },
   "file_extension": ".py",
   "mimetype": "text/x-python",
   "name": "python",
   "nbconvert_exporter": "python",
   "pygments_lexer": "ipython3",
   "version": "3.12.4"
  }
 },
 "nbformat": 4,
 "nbformat_minor": 5
}
